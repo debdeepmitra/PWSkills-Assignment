{
 "cells": [
  {
   "cell_type": "markdown",
   "id": "acc79f20-f88a-47ed-85be-46e45f61efd4",
   "metadata": {
    "tags": []
   },
   "source": [
    "## Answer-1:"
   ]
  },
  {
   "cell_type": "code",
   "execution_count": 24,
   "id": "c1451ba3-3980-4eb3-bf2c-4c6bc3b4f068",
   "metadata": {},
   "outputs": [
    {
     "name": "stdout",
     "output_type": "stream",
     "text": [
      "'\n"
     ]
    }
   ],
   "source": [
    "char = \"\\'\"\n",
    "print(char)"
   ]
  },
  {
   "cell_type": "markdown",
   "id": "7ab15323-352b-47d8-abc2-3faeff4851bb",
   "metadata": {
    "tags": []
   },
   "source": [
    "## Answer-2:\n",
    "\n",
    "x='a'\n",
    "Here, x is of string type. We can verify using type(x) and see the result."
   ]
  },
  {
   "cell_type": "code",
   "execution_count": 1,
   "id": "62f52139-ff65-42b4-bbd2-3808eb45e829",
   "metadata": {},
   "outputs": [
    {
     "data": {
      "text/plain": [
       "str"
      ]
     },
     "execution_count": 1,
     "metadata": {},
     "output_type": "execute_result"
    }
   ],
   "source": [
    "x='a'\n",
    "type(x)"
   ]
  },
  {
   "cell_type": "markdown",
   "id": "1fc57533-e895-4cc2-a931-1b15e38fd79b",
   "metadata": {
    "tags": []
   },
   "source": [
    "## Answer-3:"
   ]
  },
  {
   "cell_type": "code",
   "execution_count": 4,
   "id": "7d72a096-44b3-46cd-863f-49ec25d0c66f",
   "metadata": {},
   "outputs": [
    {
     "data": {
      "text/plain": [
       "35"
      ]
     },
     "execution_count": 4,
     "metadata": {},
     "output_type": "execute_result"
    }
   ],
   "source": [
    "str = \"Welcome to Python foundation course\"\n",
    "str.find('to')\n",
    "str.count('t')\n",
    "len(str)"
   ]
  },
  {
   "cell_type": "code",
   "execution_count": 5,
   "id": "f1c3c034-5944-4b54-98d5-cbf691ce1371",
   "metadata": {},
   "outputs": [
    {
     "data": {
      "text/plain": [
       "'Welcome to Python foundation course, Hello World!'"
      ]
     },
     "execution_count": 5,
     "metadata": {},
     "output_type": "execute_result"
    }
   ],
   "source": [
    "l1 = \", Hello World!\"\n",
    "l2 = str + l1\n",
    "l2"
   ]
  },
  {
   "cell_type": "markdown",
   "id": "b4d7fab9-00b7-4126-998e-b9361d05db86",
   "metadata": {
    "tags": []
   },
   "source": [
    "## Answer-4:"
   ]
  },
  {
   "cell_type": "code",
   "execution_count": 7,
   "id": "dd3364a0-5d12-4d69-adad-b1410ef147cd",
   "metadata": {},
   "outputs": [
    {
     "name": "stdout",
     "output_type": "stream",
     "text": [
      "Total uppercase characters: 1\n"
     ]
    }
   ],
   "source": [
    "def count_uppercase(str):\n",
    "    count = 0\n",
    "    for char in str:\n",
    "        if char.isupper():\n",
    "            count += 1\n",
    "    return count\n",
    "\n",
    "\n",
    "str = \"Panaji@12256\"\n",
    "result = count_uppercase(str)\n",
    "print(\"Total uppercase characters:\", result) "
   ]
  },
  {
   "cell_type": "code",
   "execution_count": 9,
   "id": "5c2244cd-5a1e-4947-8ad9-f91b1af3b2d3",
   "metadata": {},
   "outputs": [
    {
     "name": "stdout",
     "output_type": "stream",
     "text": [
      "Total lowercase characters: 5\n"
     ]
    }
   ],
   "source": [
    "def count_lowercase(str):\n",
    "    count = 0\n",
    "    for char in str:\n",
    "        if char.islower():\n",
    "            count += 1\n",
    "    return count\n",
    "\n",
    "\n",
    "str = \"Panaji@12256\"\n",
    "result = count_lowercase(str)\n",
    "print(\"Total lowercase characters:\", result) "
   ]
  },
  {
   "cell_type": "code",
   "execution_count": 18,
   "id": "0b7e3e7b-49dc-45b5-b862-30de094b73c8",
   "metadata": {},
   "outputs": [
    {
     "name": "stdout",
     "output_type": "stream",
     "text": [
      "Total digit count: 5\n"
     ]
    }
   ],
   "source": [
    "def count_digit(str):\n",
    "    count = 0\n",
    "    for char in str:\n",
    "        if char.isdigit():\n",
    "            count += 1\n",
    "    return count\n",
    "\n",
    "\n",
    "str = \"Panaji@12256\"\n",
    "result = count_digit(str)\n",
    "print(\"Total digit count:\", result) "
   ]
  },
  {
   "cell_type": "markdown",
   "id": "8d51e756-ed1b-4612-bf10-01dcb9d43708",
   "metadata": {
    "tags": []
   },
   "source": [
    "## Answer-5:"
   ]
  },
  {
   "cell_type": "code",
   "execution_count": null,
   "id": "f1b5932e-8f2f-45e8-b8db-3b4426313419",
   "metadata": {},
   "outputs": [],
   "source": [
    "val = 12256\n",
    "string = str(val)"
   ]
  }
 ],
 "metadata": {
  "kernelspec": {
   "display_name": "Python 3 (ipykernel)",
   "language": "python",
   "name": "python3"
  },
  "language_info": {
   "codemirror_mode": {
    "name": "ipython",
    "version": 3
   },
   "file_extension": ".py",
   "mimetype": "text/x-python",
   "name": "python",
   "nbconvert_exporter": "python",
   "pygments_lexer": "ipython3",
   "version": "3.10.8"
  }
 },
 "nbformat": 4,
 "nbformat_minor": 5
}
