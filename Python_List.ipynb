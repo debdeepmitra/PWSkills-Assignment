{
 "cells": [
  {
   "cell_type": "markdown",
   "id": "e78282c0-26c4-47d5-878e-9edb133f5fbf",
   "metadata": {},
   "source": [
    "## Answer-1:"
   ]
  },
  {
   "cell_type": "code",
   "execution_count": 2,
   "id": "0f3ba090-a276-44b1-9eca-855e15fa227f",
   "metadata": {},
   "outputs": [],
   "source": [
    "l = []"
   ]
  },
  {
   "cell_type": "markdown",
   "id": "84ed5c68-0a85-4f5a-9ab7-d141fca352ec",
   "metadata": {},
   "source": [
    "## Answer-2:"
   ]
  },
  {
   "cell_type": "code",
   "execution_count": 22,
   "id": "2504bb03-c201-4b37-be1a-dcb57ddc107f",
   "metadata": {},
   "outputs": [
    {
     "data": {
      "text/plain": [
       "[1, 21, 13, 7]"
      ]
     },
     "execution_count": 22,
     "metadata": {},
     "output_type": "execute_result"
    }
   ],
   "source": [
    "l1 = [1, 21, 13]\n",
    "l1.append(7)\n",
    "l1"
   ]
  },
  {
   "cell_type": "markdown",
   "id": "23fb23d1-7f51-4ca5-9e5b-7e1e2d34c1bb",
   "metadata": {},
   "source": [
    "## Answer-3:"
   ]
  },
  {
   "cell_type": "code",
   "execution_count": 23,
   "id": "18d5bead-3f43-4ade-8959-9a980caeab69",
   "metadata": {},
   "outputs": [
    {
     "data": {
      "text/plain": [
       "7"
      ]
     },
     "execution_count": 23,
     "metadata": {},
     "output_type": "execute_result"
    }
   ],
   "source": [
    "l1[-1]"
   ]
  },
  {
   "cell_type": "markdown",
   "id": "96326a1f-d2ac-4ae0-b333-2a6da0c6bbb1",
   "metadata": {},
   "source": [
    "## Answer-4"
   ]
  },
  {
   "cell_type": "code",
   "execution_count": 24,
   "id": "6324065b-894b-4af7-9d4e-9e77e503cbdd",
   "metadata": {},
   "outputs": [
    {
     "data": {
      "text/plain": [
       "[7, 13, 21, 1]"
      ]
     },
     "execution_count": 24,
     "metadata": {},
     "output_type": "execute_result"
    }
   ],
   "source": [
    "l1.reverse()\n",
    "l1"
   ]
  },
  {
   "cell_type": "markdown",
   "id": "d82d3b90-0e50-4100-bc61-0635044464be",
   "metadata": {},
   "source": [
    "## Answer-5:"
   ]
  },
  {
   "cell_type": "code",
   "execution_count": 28,
   "id": "9f59e2e3-0e45-4676-82a9-b0aa1fb6901e",
   "metadata": {},
   "outputs": [
    {
     "data": {
      "text/plain": [
       "[1, 7, 13, 21]"
      ]
     },
     "execution_count": 28,
     "metadata": {},
     "output_type": "execute_result"
    }
   ],
   "source": [
    "l1.sort()\n",
    "l1"
   ]
  },
  {
   "cell_type": "markdown",
   "id": "f332dfa9-c31b-40de-8cc9-c3a0a2d6aae7",
   "metadata": {},
   "source": [
    "## Answer-6:"
   ]
  },
  {
   "cell_type": "code",
   "execution_count": 29,
   "id": "e549e97e-4481-4a81-b20c-d5c2093e1c78",
   "metadata": {},
   "outputs": [
    {
     "data": {
      "text/plain": [
       "'Avengers'"
      ]
     },
     "execution_count": 29,
     "metadata": {},
     "output_type": "execute_result"
    }
   ],
   "source": [
    "l2 = ['Oppenheimer', 'Avengers', 'Batman Begins']\n",
    "l2[1]"
   ]
  },
  {
   "cell_type": "markdown",
   "id": "159a0369-b312-4923-b432-2b0473cce466",
   "metadata": {},
   "source": [
    "## Answer-7:"
   ]
  },
  {
   "cell_type": "code",
   "execution_count": 30,
   "id": "c6e4a71f-3041-4561-afdc-4cf177ceb0f6",
   "metadata": {},
   "outputs": [
    {
     "data": {
      "text/plain": [
       "['Dog', 'Cat', 'Horse', 'Cow', 'Jaguar']"
      ]
     },
     "execution_count": 30,
     "metadata": {},
     "output_type": "execute_result"
    }
   ],
   "source": [
    "l3 = ['Dog', 'Cat', 'Horse', 'Cow']\n",
    "l3.append('Jaguar')\n",
    "l3"
   ]
  },
  {
   "cell_type": "markdown",
   "id": "e2f305ee-09b3-4ecb-8ab0-7cef31115cc6",
   "metadata": {},
   "source": [
    "## Answer-8:"
   ]
  },
  {
   "cell_type": "code",
   "execution_count": 31,
   "id": "6df6e08d-f75e-49dc-b5d3-c3c39196000e",
   "metadata": {},
   "outputs": [
    {
     "data": {
      "text/plain": [
       "0"
      ]
     },
     "execution_count": 31,
     "metadata": {},
     "output_type": "execute_result"
    }
   ],
   "source": [
    "l4 = ['Kolkata', 'Bangalore', 'Pune', 'Delhi', 'Mumbai']\n",
    "l4.index('Kolkata')"
   ]
  }
 ],
 "metadata": {
  "kernelspec": {
   "display_name": "Python 3 (ipykernel)",
   "language": "python",
   "name": "python3"
  },
  "language_info": {
   "codemirror_mode": {
    "name": "ipython",
    "version": 3
   },
   "file_extension": ".py",
   "mimetype": "text/x-python",
   "name": "python",
   "nbconvert_exporter": "python",
   "pygments_lexer": "ipython3",
   "version": "3.10.8"
  }
 },
 "nbformat": 4,
 "nbformat_minor": 5
}
