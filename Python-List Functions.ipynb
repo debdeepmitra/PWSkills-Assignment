{
 "cells": [
  {
   "cell_type": "markdown",
   "id": "09fabd09-819b-4c07-a4c9-54e30f4220d4",
   "metadata": {},
   "source": [
    "## Answer-1:\n",
    "\n",
    "We can use the append() method to add some element in the list. Also, to add at a given index, we can use insert() method.\n",
    "For eg. list.append(val), list.insert(index, val)."
   ]
  },
  {
   "cell_type": "markdown",
   "id": "46354a45-7c2c-4f9a-b7a6-d4e733e7d787",
   "metadata": {},
   "source": [
    "## Answer-2:\n",
    "\n",
    "pop() method deletes value from a specified index position of the list, whereas remove() method is used to delete the first occurrence of a specified value in the list.\n",
    "For eg. list.pop(index), list.remove(value)"
   ]
  },
  {
   "cell_type": "markdown",
   "id": "d006fe05-4e8e-4749-9bf3-1734adde4abd",
   "metadata": {},
   "source": [
    "## Answer-3:"
   ]
  },
  {
   "cell_type": "code",
   "execution_count": 5,
   "id": "1f71a3a8-f14a-4c4e-83fc-6008d0f85590",
   "metadata": {},
   "outputs": [
    {
     "data": {
      "text/plain": [
       "[6, 5, 4, 3, 2, 1]"
      ]
     },
     "execution_count": 5,
     "metadata": {},
     "output_type": "execute_result"
    }
   ],
   "source": [
    "l = [3, 1, 4, 5, 6, 2]\n",
    "l.sort(reverse=True)\n",
    "l"
   ]
  },
  {
   "cell_type": "markdown",
   "id": "747b1d85-e2b7-45fb-811c-74fae26d4440",
   "metadata": {},
   "source": [
    "## Answer-4:"
   ]
  },
  {
   "cell_type": "code",
   "execution_count": 11,
   "id": "90fec9f8-c266-4e8d-8a52-78ea7df0b8e8",
   "metadata": {},
   "outputs": [
    {
     "data": {
      "text/plain": [
       "3"
      ]
     },
     "execution_count": 11,
     "metadata": {},
     "output_type": "execute_result"
    }
   ],
   "source": [
    "l = [4, 1, 2, 2, 6, 2, 7, 3]\n",
    "l.count(2) "
   ]
  },
  {
   "cell_type": "markdown",
   "id": "d435e0b0-f83f-4993-bbd3-ab08dbab2e0c",
   "metadata": {},
   "source": [
    "## Answer-5:"
   ]
  },
  {
   "cell_type": "code",
   "execution_count": 17,
   "id": "33988845-ca40-47c6-9519-6a6336f9ac46",
   "metadata": {},
   "outputs": [
    {
     "data": {
      "text/plain": [
       "[4, 2, 0, 1, 3]"
      ]
     },
     "execution_count": 17,
     "metadata": {},
     "output_type": "execute_result"
    }
   ],
   "source": [
    "l = [3, 1, 0, 2, 4]\n",
    "l.reverse()\n",
    "l"
   ]
  }
 ],
 "metadata": {
  "kernelspec": {
   "display_name": "Python 3 (ipykernel)",
   "language": "python",
   "name": "python3"
  },
  "language_info": {
   "codemirror_mode": {
    "name": "ipython",
    "version": 3
   },
   "file_extension": ".py",
   "mimetype": "text/x-python",
   "name": "python",
   "nbconvert_exporter": "python",
   "pygments_lexer": "ipython3",
   "version": "3.10.8"
  }
 },
 "nbformat": 4,
 "nbformat_minor": 5
}
