{
 "cells": [
  {
   "cell_type": "markdown",
   "id": "4c8742c7-c319-48a6-ad18-7b23dd4cf9e5",
   "metadata": {},
   "source": [
    "## Answer-1:\n",
    "\n",
    "In Python, a set is an unordered collection of unique elements. It is one of the built-in data types and is defined using curly braces {}."
   ]
  },
  {
   "cell_type": "markdown",
   "id": "c76e5864-9227-4f73-9cb8-238df86f11a1",
   "metadata": {},
   "source": [
    "## Answer-2:"
   ]
  },
  {
   "cell_type": "code",
   "execution_count": 1,
   "id": "36f2e0a4-5a7a-4a74-af3b-292c62506a06",
   "metadata": {},
   "outputs": [],
   "source": [
    "s1 = {}"
   ]
  },
  {
   "cell_type": "markdown",
   "id": "b6b5127e-2fb3-4cbc-9c3b-20fb40562dc9",
   "metadata": {},
   "source": [
    "## Answer-3:"
   ]
  },
  {
   "cell_type": "code",
   "execution_count": 3,
   "id": "07694754-3d42-4093-ae35-8b37b56358ae",
   "metadata": {},
   "outputs": [
    {
     "data": {
      "text/plain": [
       "{1, 2, 3, 'test'}"
      ]
     },
     "execution_count": 3,
     "metadata": {},
     "output_type": "execute_result"
    }
   ],
   "source": [
    "s2 = {1, 2, 3}\n",
    "s2.add('test')\n",
    "s2"
   ]
  },
  {
   "cell_type": "markdown",
   "id": "616b0d09-6805-4e3f-ae1b-9d1e3ec71541",
   "metadata": {},
   "source": [
    "## Answer-4:"
   ]
  },
  {
   "cell_type": "code",
   "execution_count": 4,
   "id": "20b1acca-55db-4b08-8dc3-e17e5e63db33",
   "metadata": {},
   "outputs": [
    {
     "data": {
      "text/plain": [
       "{1, 2, 4, 5}"
      ]
     },
     "execution_count": 4,
     "metadata": {},
     "output_type": "execute_result"
    }
   ],
   "source": [
    "s3 = {1, 2, 3, 4, 5}\n",
    "s3.remove(3)\n",
    "s3"
   ]
  },
  {
   "cell_type": "markdown",
   "id": "ad5047ce-1c8b-43ee-8e1d-46f213fa3807",
   "metadata": {},
   "source": [
    "## Answer-5:"
   ]
  },
  {
   "cell_type": "code",
   "execution_count": 5,
   "id": "5642fa88-3ec9-48ee-9e18-a7ead770fe95",
   "metadata": {},
   "outputs": [
    {
     "data": {
      "text/plain": [
       "5"
      ]
     },
     "execution_count": 5,
     "metadata": {},
     "output_type": "execute_result"
    }
   ],
   "source": [
    "s4 = {1, 2, 3, 4, 5}\n",
    "len(s4)"
   ]
  }
 ],
 "metadata": {
  "kernelspec": {
   "display_name": "Python 3 (ipykernel)",
   "language": "python",
   "name": "python3"
  },
  "language_info": {
   "codemirror_mode": {
    "name": "ipython",
    "version": 3
   },
   "file_extension": ".py",
   "mimetype": "text/x-python",
   "name": "python",
   "nbconvert_exporter": "python",
   "pygments_lexer": "ipython3",
   "version": "3.10.8"
  }
 },
 "nbformat": 4,
 "nbformat_minor": 5
}
