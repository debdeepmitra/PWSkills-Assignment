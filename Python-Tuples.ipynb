{
 "cells": [
  {
   "cell_type": "markdown",
   "id": "d020f8d1-9171-4148-ad4f-ad13c7fd0540",
   "metadata": {},
   "source": [
    "## Answer-1:\n",
    "\n",
    "In Python, a tuple is an ordered, immutable collection of elements. It is one of the built-in data types and is defined using parentheses ()."
   ]
  },
  {
   "cell_type": "markdown",
   "id": "402f80ec-74cc-4c3f-b7c1-33cda4d0aef9",
   "metadata": {},
   "source": [
    "## Answer-2:"
   ]
  },
  {
   "cell_type": "code",
   "execution_count": 1,
   "id": "fd29bca7-3c9b-4007-8a29-cdab85614c17",
   "metadata": {},
   "outputs": [
    {
     "data": {
      "text/plain": [
       "(1, 2, 3)"
      ]
     },
     "execution_count": 1,
     "metadata": {},
     "output_type": "execute_result"
    }
   ],
   "source": [
    "t1 = (1, 2, 3)\n",
    "t1"
   ]
  },
  {
   "cell_type": "markdown",
   "id": "66c463df-5860-4c73-bb3f-4cecf6d3adb8",
   "metadata": {},
   "source": [
    "## Answer-3:\n",
    "Tuples: Tuples are immutable, meaning once created, their elements cannot be changed or modified.\n",
    "Lists: Lists are mutable, allowing us to add, remove, or modify elements at any position within the list after its creation."
   ]
  },
  {
   "cell_type": "markdown",
   "id": "71464083-c9d4-4b2b-998c-42d1a59466b5",
   "metadata": {},
   "source": [
    "## Answer-4:"
   ]
  },
  {
   "cell_type": "code",
   "execution_count": 3,
   "id": "2108daac-e88c-4e36-abc3-cf2c8cce6e3c",
   "metadata": {},
   "outputs": [
    {
     "data": {
      "text/plain": [
       "4"
      ]
     },
     "execution_count": 3,
     "metadata": {},
     "output_type": "execute_result"
    }
   ],
   "source": [
    "t2 = (1, 2, 3, 4, 5, 6)\n",
    "t2[3]"
   ]
  },
  {
   "cell_type": "markdown",
   "id": "330e4f04-618a-458e-bfc0-0a48dae91db7",
   "metadata": {},
   "source": [
    "## Answer-5:"
   ]
  },
  {
   "cell_type": "code",
   "execution_count": 5,
   "id": "f02e3305-3804-4a0f-af00-f9e89ec976a2",
   "metadata": {},
   "outputs": [
    {
     "name": "stdout",
     "output_type": "stream",
     "text": [
      "1\n",
      "2\n",
      "3\n",
      "4\n"
     ]
    }
   ],
   "source": [
    "t3 = (1, 2, 3, 4)\n",
    "a, b, c, d = t3\n",
    "print(a)\n",
    "print(b)\n",
    "print(c)\n",
    "print(d)"
   ]
  }
 ],
 "metadata": {
  "kernelspec": {
   "display_name": "Python 3 (ipykernel)",
   "language": "python",
   "name": "python3"
  },
  "language_info": {
   "codemirror_mode": {
    "name": "ipython",
    "version": 3
   },
   "file_extension": ".py",
   "mimetype": "text/x-python",
   "name": "python",
   "nbconvert_exporter": "python",
   "pygments_lexer": "ipython3",
   "version": "3.10.8"
  }
 },
 "nbformat": 4,
 "nbformat_minor": 5
}
